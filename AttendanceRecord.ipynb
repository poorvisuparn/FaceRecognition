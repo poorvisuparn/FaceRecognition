{
 "cells": [
  {
   "cell_type": "code",
   "execution_count": 3,
   "metadata": {},
   "outputs": [],
   "source": [
    "import numpy as np # linear algebra\n",
    "import pandas as pd # data processing, CSV file I/O (e.g. pd.read_csv)\n",
    "\n",
    "# Visualization\n",
    "import matplotlib.pyplot as plt\n",
    "\n",
    "# Timestamping\n",
    "import datetime as dt\n",
    "\n",
    "from PIL import Image, ImageFilter, ImageDraw, ImageFont\n",
    "import face_recognition as fr"
   ]
  },
  {
   "cell_type": "code",
   "execution_count": 10,
   "metadata": {},
   "outputs": [],
   "source": [
    "csvfile = pd.read_csv('celebs.csv')\n",
    "name = csvfile['celeb'].tolist()\n",
    "path = csvfile['imagepath'].tolist()"
   ]
  },
  {
   "cell_type": "code",
   "execution_count": 23,
   "metadata": {},
   "outputs": [],
   "source": [
    "uk1 = fr.load_image_file('Brad_Pitt/002_cc1b9701.jpg')\n",
    "uk2 = fr.load_image_file('Angelina_Jolie/003_57612506.jpg')"
   ]
  },
  {
   "cell_type": "code",
   "execution_count": 26,
   "metadata": {},
   "outputs": [],
   "source": [
    "def find(uk):\n",
    "    celebencs = []\n",
    "    ukenc = fr.face_encodings(uk)[0]\n",
    "    for i in range(len(csvfile)):\n",
    "        img = fr.load_image_file(csvfile['imagepath'][i])\n",
    "        celebencs.append(fr.face_encodings(img)[0])\n",
    "    found = fr.compare_faces(celebencs, ukenc)\n",
    "    return found"
   ]
  },
  {
   "cell_type": "code",
   "execution_count": 27,
   "metadata": {},
   "outputs": [
    {
     "name": "stdout",
     "output_type": "stream",
     "text": [
      "[True, False, False, False, False, False, False, False, False, False, False, False, False, False, False, False, False]\n"
     ]
    }
   ],
   "source": [
    "found = find(uk2)\n",
    "print(found)\n",
    "for i in range(len(csvfile)):\n",
    "    if found[i]:\n",
    "        timestamp = str(dt.datetime.now())\n",
    "        attend = str(name[i] + ' ' + timestamp + \"\\n\")\n",
    "        with open('attendance.txt', 'a') as f:\n",
    "            f.write(attend)\n",
    "            f.close()"
   ]
  }
 ],
 "metadata": {
  "kernelspec": {
   "display_name": "FaceRecognition",
   "language": "python",
   "name": "python3"
  },
  "language_info": {
   "codemirror_mode": {
    "name": "ipython",
    "version": 3
   },
   "file_extension": ".py",
   "mimetype": "text/x-python",
   "name": "python",
   "nbconvert_exporter": "python",
   "pygments_lexer": "ipython3",
   "version": "3.9.16"
  },
  "orig_nbformat": 4
 },
 "nbformat": 4,
 "nbformat_minor": 2
}
