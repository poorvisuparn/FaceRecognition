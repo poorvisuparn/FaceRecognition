{
 "cells": [
  {
   "attachments": {},
   "cell_type": "markdown",
   "id": "47ad415c",
   "metadata": {},
   "source": [
    "## Importing Basic Libraries"
   ]
  },
  {
   "cell_type": "code",
   "execution_count": 1,
   "id": "7a868a19",
   "metadata": {},
   "outputs": [],
   "source": [
    "import numpy as np # linear algebra\n",
    "import pandas as pd # data processing, CSV file I/O (e.g. pd.read_csv)\n",
    "\n",
    "# Visualization\n",
    "import matplotlib.pyplot as plt\n",
    "\n",
    "# Machine Learning\n",
    "from sklearn.model_selection import train_test_split\n",
    "from sklearn.decomposition import PCA\n",
    "from sklearn.svm import SVC\n",
    "from sklearn.naive_bayes import GaussianNB\n",
    "from sklearn.neighbors import KNeighborsClassifier\n",
    "from sklearn.tree import DecisionTreeClassifier\n",
    "from sklearn.linear_model import LogisticRegression\n",
    "from sklearn.discriminant_analysis import LinearDiscriminantAnalysis\n",
    "from sklearn import metrics"
   ]
  },
  {
   "attachments": {},
   "cell_type": "markdown",
   "id": "60bcd737",
   "metadata": {},
   "source": [
    "## PIL (Python Image Library)"
   ]
  },
  {
   "cell_type": "code",
   "execution_count": 2,
   "id": "397a2aa8",
   "metadata": {},
   "outputs": [],
   "source": [
    "from PIL import Image, ImageFilter, ImageDraw, ImageFont"
   ]
  },
  {
   "cell_type": "code",
   "execution_count": 3,
   "id": "aed99ba0",
   "metadata": {},
   "outputs": [],
   "source": [
    "# open and show image\n",
    "image1 = Image.open(\"dataset/68950.png\")\n",
    "image1.show() # displays numpy array as image"
   ]
  },
  {
   "cell_type": "code",
   "execution_count": 4,
   "id": "5b31cbd9",
   "metadata": {},
   "outputs": [],
   "source": [
    "# add image filters\n",
    "image1_e = image1.filter(ImageFilter.EMBOSS())\n",
    "image1_b = image1.filter(ImageFilter.BLUR())\n",
    "image1_e.show()\n",
    "image1_b.show()"
   ]
  },
  {
   "cell_type": "code",
   "execution_count": 5,
   "id": "22c4bcab",
   "metadata": {},
   "outputs": [],
   "source": [
    "# draw on image\n",
    "canvas = ImageDraw.Draw(image1)\n",
    "canvas.rectangle((100, 200, 550, 650), outline = (0, 255, 2), width = 10)\n",
    "canvas.line((100, 200, 550, 650), fill = (255, 2, 0), width = 5)\n",
    "image1.show()"
   ]
  },
  {
   "cell_type": "code",
   "execution_count": 6,
   "id": "4694431b",
   "metadata": {},
   "outputs": [],
   "source": [
    "myfont = ImageFont.truetype(\"arial.ttf\", 60)\n",
    "canvas.text((250, 650), \"This is a pretty face.\", font = myfont, fill = (0,0,255))\n",
    "image1.show()"
   ]
  },
  {
   "attachments": {},
   "cell_type": "markdown",
   "id": "fa9aa3c8",
   "metadata": {},
   "source": [
    "## Face Recognition Library"
   ]
  },
  {
   "cell_type": "code",
   "execution_count": 7,
   "id": "6f49517b",
   "metadata": {},
   "outputs": [],
   "source": [
    "import face_recognition as fr"
   ]
  },
  {
   "cell_type": "code",
   "execution_count": 8,
   "id": "3fa50a82",
   "metadata": {},
   "outputs": [
    {
     "name": "stdout",
     "output_type": "stream",
     "text": [
      "(1024, 1024, 3) (1024, 1024, 3) (1024, 1024)\n"
     ]
    }
   ],
   "source": [
    "img1 = fr.load_image_file(\"dataset/68951.png\") # load image file as default RBG\n",
    "img2 = fr.load_image_file(\"dataset/68952.png\", \"RGB\") # loads in RGB\n",
    "img3 = fr.load_image_file(\"dataset/68953.png\", \"L\") # loads as black and white\n",
    "print(img1.shape, img2.shape, img3.shape)"
   ]
  },
  {
   "cell_type": "code",
   "execution_count": 9,
   "id": "dcb0015f",
   "metadata": {},
   "outputs": [
    {
     "name": "stdout",
     "output_type": "stream",
     "text": [
      "[[187 185 173]\n",
      " [188 186 174]\n",
      " [190 188 175]\n",
      " ...\n",
      " [185 187 177]\n",
      " [192 193 184]\n",
      " [176 178 167]]\n"
     ]
    }
   ],
   "source": [
    "# images loaded as numpy arrays of numerical pixel values\n",
    "print(img2[0]) # 1/1024th representation of image"
   ]
  },
  {
   "cell_type": "code",
   "execution_count": 10,
   "id": "be23f523",
   "metadata": {},
   "outputs": [],
   "source": [
    "# convert numpy values back to image \n",
    "image2 = Image.fromarray(img2)\n",
    "image2.show()"
   ]
  },
  {
   "attachments": {},
   "cell_type": "markdown",
   "id": "d5c59868",
   "metadata": {},
   "source": [
    "#### Face Locations\n",
    "Returns list of tuples of (top, right, bottom, left) coordinates of all faces in the image"
   ]
  },
  {
   "cell_type": "code",
   "execution_count": 11,
   "id": "d0567a45",
   "metadata": {},
   "outputs": [
    {
     "name": "stdout",
     "output_type": "stream",
     "text": [
      "(2047, 1365, 3)\n"
     ]
    }
   ],
   "source": [
    "people = fr.load_image_file(\"dataset/69001.jpg\")\n",
    "print(people.shape)"
   ]
  },
  {
   "cell_type": "code",
   "execution_count": 12,
   "id": "e9bce83d",
   "metadata": {},
   "outputs": [],
   "source": [
    "# extracting each face from image coordinates\n",
    "def extract_face(l):\n",
    "    for i in range(len(l)):\n",
    "        top, right, bottom, left = l[i]\n",
    "        face = people[top:bottom, left:right]\n",
    "        print(face.shape)\n",
    "        face_image =  Image.fromarray(face)\n",
    "        face_image.show()"
   ]
  },
  {
   "cell_type": "code",
   "execution_count": 13,
   "id": "760ef3be",
   "metadata": {},
   "outputs": [],
   "source": [
    "# drawing rectangles around faces\n",
    "def drawrect(image, l):\n",
    "    face = Image.fromarray(image)\n",
    "    for i in range(len(l)):\n",
    "        top, right, bottom, left = l[i]\n",
    "        face_rect = ImageDraw.Draw(face)\n",
    "        face_rect.rectangle((left, top, right, bottom), outline = (255, 0, 0), width = 10)\n",
    "    face.show()"
   ]
  },
  {
   "cell_type": "code",
   "execution_count": 14,
   "metadata": {},
   "outputs": [
    {
     "name": "stdout",
     "output_type": "stream",
     "text": [
      "[(804, 589, 1189, 204), (247, 1103, 632, 718), (848, 1097, 1169, 776)]\n",
      "(385, 385, 3)\n",
      "(385, 385, 3)\n",
      "(321, 321, 3)\n"
     ]
    }
   ],
   "source": [
    "\n",
    "l = fr.face_locations(people) # default model: hog\n",
    "# lhog = fr.face_locations(people, model = 'hog') \n",
    "print(l)\n",
    "extract_face(l)"
   ]
  },
  {
   "cell_type": "code",
   "execution_count": 15,
   "id": "a9e68b06",
   "metadata": {},
   "outputs": [
    {
     "name": "stdout",
     "output_type": "stream",
     "text": [
      "[(849, 1087, 1143, 793), (245, 1095, 667, 672), (801, 581, 1224, 158)]\n",
      "(294, 294, 3)\n",
      "(422, 423, 3)\n",
      "(423, 423, 3)\n"
     ]
    }
   ],
   "source": [
    "lcnn = fr.face_locations(people, model = 'cnn')\n",
    "print(lcnn)\n",
    "extract_face(lcnn)"
   ]
  },
  {
   "cell_type": "code",
   "execution_count": 16,
   "id": "6579d5e4",
   "metadata": {},
   "outputs": [],
   "source": [
    "drawrect(people, l)\n",
    "drawrect(people, lcnn)"
   ]
  },
  {
   "attachments": {},
   "cell_type": "markdown",
   "id": "dc92aad7",
   "metadata": {},
   "source": [
    "#### Face Encodings\n",
    "Returns list of 128 float numpy array face encodings for each face in image"
   ]
  },
  {
   "cell_type": "code",
   "execution_count": 17,
   "id": "67c7a8a3",
   "metadata": {},
   "outputs": [
    {
     "name": "stdout",
     "output_type": "stream",
     "text": [
      "3\n",
      "128\n",
      "[array([-0.11614306, -0.05022058,  0.01374533, -0.07499997, -0.08884497,\n",
      "       -0.10591253,  0.00906487, -0.08037573,  0.20751841, -0.10623221,\n",
      "        0.11830029,  0.01911241, -0.27976558, -0.04688681,  0.00211527,\n",
      "        0.16835058, -0.16371155, -0.14428803, -0.10225864, -0.03682549,\n",
      "        0.03956093,  0.02909841,  0.06635259,  0.14052887, -0.10157414,\n",
      "       -0.28596994, -0.07300213, -0.0438851 , -0.04977189, -0.04965674,\n",
      "       -0.01129121,  0.07898265, -0.18369447, -0.06539592,  0.10144313,\n",
      "        0.13284226, -0.10391603, -0.16402306,  0.24115917,  0.06384456,\n",
      "       -0.21270277, -0.09763712,  0.01131041,  0.24192491,  0.24191548,\n",
      "        0.05934096, -0.0148933 , -0.09553802,  0.19323507, -0.36326063,\n",
      "        0.03090961,  0.14338984,  0.00279139, -0.01690601,  0.12196687,\n",
      "       -0.18151924,  0.05995632,  0.2060522 , -0.26860544,  0.01498435,\n",
      "       -0.00398036, -0.18841669, -0.06418969, -0.12336732,  0.23860565,\n",
      "        0.10523669, -0.15339051, -0.07815976,  0.29447106, -0.17546269,\n",
      "       -0.01792264,  0.08941896, -0.07383198, -0.26019675, -0.22376308,\n",
      "       -0.00591293,  0.40604389,  0.20255615, -0.12732591,  0.06839877,\n",
      "       -0.0407156 ,  0.00295465,  0.02020738,  0.16012894, -0.0419491 ,\n",
      "        0.02155376, -0.09202715, -0.03449119,  0.1545084 ,  0.03420274,\n",
      "        0.00162659,  0.32070684,  0.01556213, -0.02753655,  0.10243044,\n",
      "       -0.03791538, -0.10336285, -0.03845695, -0.19239296, -0.07991485,\n",
      "        0.07189117, -0.09866927,  0.06526271,  0.09455161, -0.1435422 ,\n",
      "        0.09345549, -0.07072163, -0.04781912,  0.00376471, -0.11462766,\n",
      "       -0.11116396, -0.05409042,  0.1031945 , -0.30569568,  0.1324461 ,\n",
      "        0.13089372,  0.05844006,  0.19546163,  0.00268953,  0.10486382,\n",
      "        0.00536042, -0.070434  , -0.18541774, -0.05005769,  0.09884902,\n",
      "        0.0052798 ,  0.0990581 ,  0.01715249]), array([-5.35773225e-02,  8.74696076e-02,  3.42788063e-02, -4.78331279e-03,\n",
      "       -7.25477338e-02,  5.93393594e-02, -3.46991122e-02, -6.24825098e-02,\n",
      "        9.31407735e-02, -5.85568100e-02,  1.82296291e-01, -7.94774294e-02,\n",
      "       -2.65723526e-01, -8.68209526e-02, -2.93089412e-02,  1.75530985e-01,\n",
      "       -2.36410901e-01, -1.16098359e-01, -7.17178360e-02,  1.32301664e-02,\n",
      "        9.05595422e-02,  7.00664595e-02, -2.72975937e-02,  4.28165756e-02,\n",
      "       -1.29359439e-01, -3.96029443e-01, -3.64307314e-02, -3.67817990e-02,\n",
      "        4.67636064e-03, -9.24750343e-02, -4.96281385e-02,  1.47087321e-01,\n",
      "       -1.26797438e-01,  1.16926664e-02, -9.28634219e-03,  7.82963857e-02,\n",
      "       -4.38562315e-03, -4.20381874e-02,  1.50737897e-01,  1.28374889e-01,\n",
      "       -1.37770832e-01,  1.64122880e-03,  1.94790624e-02,  3.40306848e-01,\n",
      "        2.74113625e-01,  3.39307524e-02,  2.95068230e-03,  8.59376416e-03,\n",
      "        1.24858603e-01, -3.55329990e-01,  2.38471590e-02,  1.65736854e-01,\n",
      "        1.00562155e-01,  1.20244846e-01,  7.43583962e-02, -7.24220648e-02,\n",
      "       -4.41492945e-02,  7.27522522e-02, -1.94940761e-01,  2.43062899e-02,\n",
      "        1.62535273e-02, -1.71958990e-02,  1.49030183e-02, -1.24167375e-01,\n",
      "        1.76345110e-01,  9.42869484e-02, -1.20440431e-01, -9.64078158e-02,\n",
      "        7.18330219e-02, -1.91861913e-01, -1.50131300e-01, -1.48812309e-02,\n",
      "       -1.19583771e-01, -1.30662054e-01, -3.42729539e-01,  2.83681136e-03,\n",
      "        3.31316054e-01,  1.67993233e-01, -2.27851436e-01, -3.33236381e-02,\n",
      "        7.27321673e-03, -7.02727586e-02,  1.23277776e-01,  7.10793734e-02,\n",
      "       -1.52665004e-02, -4.06366400e-03, -7.31284618e-02,  1.66674070e-02,\n",
      "        1.83749706e-01, -1.27362013e-02, -4.57995087e-02,  2.87886351e-01,\n",
      "        2.84589231e-02, -7.21989200e-05,  5.52744307e-02,  4.16974090e-02,\n",
      "       -1.11644622e-02, -8.53028800e-03, -1.39855728e-01, -2.17563584e-02,\n",
      "       -1.71321873e-02, -4.64070067e-02,  7.14920368e-03,  1.03269823e-01,\n",
      "       -1.18599467e-01,  2.01810405e-01, -9.82144475e-03,  5.23545519e-02,\n",
      "        2.10115537e-02, -2.96279695e-02, -1.73061937e-01, -9.58502386e-03,\n",
      "        1.50925457e-01, -2.44064406e-01,  6.77367225e-02,  1.64815933e-01,\n",
      "       -8.02249182e-03,  7.27084279e-02,  9.93457064e-03,  8.30529407e-02,\n",
      "       -6.17052205e-02,  1.29251182e-03, -1.23842165e-01, -9.35029089e-02,\n",
      "        8.29826593e-02,  9.02852602e-03, -1.91608109e-02,  6.57920213e-03]), array([-0.1285585 , -0.00433619,  0.01614895, -0.16517597, -0.15501076,\n",
      "       -0.05841012,  0.00550776, -0.08211917,  0.14233647, -0.14190613,\n",
      "        0.25209165, -0.06601312, -0.16792774,  0.00493439, -0.00839995,\n",
      "        0.1678842 , -0.18870938, -0.08959924, -0.08348381, -0.0523423 ,\n",
      "        0.03148596,  0.06486507, -0.10310889,  0.1037047 , -0.13861881,\n",
      "       -0.28801519, -0.04269854, -0.07799622, -0.05781669, -0.02012931,\n",
      "        0.08377212,  0.18477517, -0.14233549,  0.00949977, -0.00312219,\n",
      "        0.0154145 , -0.02649261, -0.0631758 ,  0.22018498,  0.03065238,\n",
      "       -0.22022471, -0.01791766,  0.08199282,  0.25690231,  0.12621336,\n",
      "       -0.05824821,  0.02353327, -0.02497641,  0.1449009 , -0.26474831,\n",
      "       -0.05723369,  0.14273205,  0.07604883,  0.02313695,  0.05251715,\n",
      "       -0.08581651,  0.03587276,  0.13313124, -0.22287634,  0.02051974,\n",
      "        0.03569656, -0.08638992, -0.01625699, -0.14900443,  0.23077554,\n",
      "        0.08720127, -0.14330725, -0.08809818,  0.13528578, -0.10332556,\n",
      "       -0.15944597,  0.00616294, -0.17070849, -0.20623186, -0.3059133 ,\n",
      "        0.04426709,  0.34460688,  0.12720227, -0.16364329,  0.07383586,\n",
      "       -0.02076728, -0.10358208,  0.07178076,  0.10582151,  0.00114754,\n",
      "       -0.06495781,  0.00484872,  0.04147882,  0.23536909, -0.0193896 ,\n",
      "        0.0175457 ,  0.23966506,  0.0035351 , -0.03858577, -0.05332782,\n",
      "        0.00452275, -0.06874081,  0.02094112, -0.07157885,  0.07991383,\n",
      "        0.01227757, -0.05150203,  0.01332321,  0.13781343, -0.216719  ,\n",
      "        0.19698963, -0.01880606, -0.02703309, -0.03341088,  0.02552703,\n",
      "       -0.08498874, -0.0218587 ,  0.11563402, -0.16686738,  0.15961273,\n",
      "        0.1300378 ,  0.0573059 ,  0.13093768,  0.04783741,  0.00671086,\n",
      "       -0.02012317,  0.02898608, -0.20470312, -0.08119329,  0.14019316,\n",
      "       -0.05847982,  0.04386424,  0.03234848])]\n"
     ]
    }
   ],
   "source": [
    "encodings_people = fr.face_encodings(people)\n",
    "print(len(encodings_people))\n",
    "print(len(encodings_people[0]))\n",
    "print(encodings_people)"
   ]
  },
  {
   "attachments": {},
   "cell_type": "markdown",
   "id": "626eb9ad",
   "metadata": {},
   "source": [
    "#### Distance Function and Resemblance\n",
    "face_recognition.face_distance(face_encodings, f)<br>\n",
    "Returns list of Euclidean distances of all face encodings in the list face_encodings from the face f"
   ]
  },
  {
   "cell_type": "code",
   "execution_count": 18,
   "id": "080b1136",
   "metadata": {},
   "outputs": [
    {
     "name": "stdout",
     "output_type": "stream",
     "text": [
      "[0.42422033 0.41878663 0.73417251 0.80457631]\n"
     ]
    }
   ],
   "source": [
    "jenlaw1 = fr.load_image_file(\"celeb_dataset/Jennifer_Lawrence/092_aebdc10e.jpg\")\n",
    "jenlaw2 = fr.load_image_file(\"celeb_dataset/Jennifer_Lawrence/020_5a08581b.jpg\")\n",
    "jenlaw3 = fr.load_image_file(\"celeb_dataset/Jennifer_Lawrence/076_caf65a53.jpg\")\n",
    "megfox1 = fr.load_image_file(\"celeb_dataset/Megan_Fox/012_d461a2b5.jpg\")\n",
    "johndepp1 = fr.load_image_file(\"celeb_dataset/Johnny_Depp/098_16b30dda.jpg\")\n",
    "enc1 = fr.face_encodings(jenlaw1)[0]\n",
    "enc2 = fr.face_encodings(jenlaw2)[0]\n",
    "enc3 = fr.face_encodings(jenlaw3)[0]\n",
    "enc4 = fr.face_encodings(megfox1)[0]\n",
    "enc5 = fr.face_encodings(johndepp1)[0]\n",
    "faces = [enc2, enc3, enc4, enc5]\n",
    "d = fr.face_distance(faces, enc1)\n",
    "print(d)"
   ]
  },
  {
   "attachments": {},
   "cell_type": "markdown",
   "id": "350977a8",
   "metadata": {},
   "source": [
    "#### Mother - daughter Resemblance"
   ]
  },
  {
   "cell_type": "code",
   "execution_count": 19,
   "id": "acd57a10",
   "metadata": {},
   "outputs": [
    {
     "name": "stdout",
     "output_type": "stream",
     "text": [
      "            Mother 1  Mother 2  Mother 3  Mother 4  Mother 5  Mother 6\n",
      "Daughter 1  0.687214  0.719929  0.860692  0.744426  0.786763  0.848025\n",
      "Daughter 2  0.740466  0.665743  0.768776  0.747291  0.715549  0.701961\n",
      "Daughter 3  0.761065  0.695402  0.629270  0.718516  0.664736  0.792774\n",
      "Daughter 4  0.726341  0.659520  0.740936  0.613277  0.657482  0.661698\n",
      "Daughter 5  0.678506  0.722404  0.793655  0.741665  0.663127  0.759696\n",
      "Daughter 6  0.750527  0.820560  0.789111  0.815145  0.804044  0.618579\n"
     ]
    }
   ],
   "source": [
    "n = 6\n",
    "\n",
    "mothers = []\n",
    "mother_encs = []\n",
    "daughters = []\n",
    "daughter_encs = []\n",
    "\n",
    "# path templates for images\n",
    "m_path_template = 'mother_daughter/mother{}.jpg'\n",
    "d_path_template = 'mother_daughter/daughter{}.jpg'\n",
    "\n",
    "# append face encodings to list\n",
    "for i in range(1, n+1):\n",
    "    m = fr.load_image_file(m_path_template.format(i))\n",
    "    d = fr.load_image_file(d_path_template.format(i))\n",
    "    mothers.append(m)\n",
    "    mother_encs.append(fr.face_encodings(m)[0])\n",
    "    daughters.append(d)\n",
    "    daughter_encs.append(fr.face_encodings(d)[0])\n",
    "\n",
    "cols = []\n",
    "rows = []\n",
    "lst = []\n",
    "for i in range(1, n+1):\n",
    "    cols.append('Mother {}'.format(i))\n",
    "    rows.append('Daughter {}'.format(i))\n",
    "    lst.append(fr.face_distance(mother_encs, daughter_encs[i-1]))\n",
    "\n",
    "# convert list to data frame\n",
    "df = pd.DataFrame(lst)\n",
    "df.columns = cols\n",
    "df.index = rows\n",
    "print(df)"
   ]
  },
  {
   "attachments": {},
   "cell_type": "markdown",
   "id": "243f80a8",
   "metadata": {},
   "source": [
    "#### Compare two faces\n",
    "face_recognition.compare_faces([face_encs], unknown_face_encs, tolerance = 0.4) <br>\n",
    "Default vaalue of tolerance = 0.5<br>\n",
    "Returns list of boolean values for each element in face true if given faces match, false otherwise"
   ]
  },
  {
   "cell_type": "code",
   "execution_count": 20,
   "id": "9a266e91",
   "metadata": {},
   "outputs": [
    {
     "name": "stdout",
     "output_type": "stream",
     "text": [
      "Face 1: Jennifer Lawrence\n",
      "Face 2: Jennifer Lawrence\n",
      "Face 3: Not Jennifer Lawrence\n",
      "Face 4: Not Jennifer Lawrence\n"
     ]
    }
   ],
   "source": [
    "compare = fr.compare_faces(faces, enc1, tolerance = 0.45)\n",
    "for i in range(len(compare)):\n",
    "    print('Face {}:'.format(i+1), end = ' ')\n",
    "    if compare[i]:\n",
    "        print(\"Jennifer Lawrence\")\n",
    "    else:\n",
    "        print(\"Not Jennifer Lawrence\")"
   ]
  }
 ],
 "metadata": {
  "kernelspec": {
   "display_name": "Python 3 (ipykernel)",
   "language": "python",
   "name": "python3"
  },
  "language_info": {
   "codemirror_mode": {
    "name": "ipython",
    "version": 3
   },
   "file_extension": ".py",
   "mimetype": "text/x-python",
   "name": "python",
   "nbconvert_exporter": "python",
   "pygments_lexer": "ipython3",
   "version": "3.9.16"
  }
 },
 "nbformat": 4,
 "nbformat_minor": 5
}
