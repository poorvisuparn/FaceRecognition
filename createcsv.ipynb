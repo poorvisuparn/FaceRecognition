{
 "cells": [
  {
   "cell_type": "code",
   "execution_count": 2,
   "metadata": {},
   "outputs": [],
   "source": [
    "import os\n",
    "import pandas as pd\n",
    "path = \"celeb_dataset\"\n",
    "dir_list = os.listdir(path)\n",
    "lst = []\n",
    "for i in range(len(dir_list)):\n",
    "    file_list = os.listdir(path + '/{}'.format(dir_list[i]))\n",
    "    sublst = [dir_list[i], path + '/{}/{}'.format(dir_list[i], file_list[0])]\n",
    "    lst.append(sublst)\n",
    "df = pd.DataFrame(lst)\n",
    "df.columns = ['celeb', 'imagepath']\n",
    "df.to_csv('celebs.csv')"
   ]
  }
 ],
 "metadata": {
  "kernelspec": {
   "display_name": "FaceRecognition",
   "language": "python",
   "name": "python3"
  },
  "language_info": {
   "codemirror_mode": {
    "name": "ipython",
    "version": 3
   },
   "file_extension": ".py",
   "mimetype": "text/x-python",
   "name": "python",
   "nbconvert_exporter": "python",
   "pygments_lexer": "ipython3",
   "version": "3.9.16"
  },
  "orig_nbformat": 4
 },
 "nbformat": 4,
 "nbformat_minor": 2
}
